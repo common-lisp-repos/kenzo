{
 "cells": [
  {
   "cell_type": "code",
   "execution_count": 1,
   "metadata": {},
   "outputs": [
    {
     "name": "stdout",
     "output_type": "stream",
     "text": [
      "To load \"kenzo\":\n",
      "  Load 1 ASDF system:\n",
      "    kenzo\n",
      "; Loading \"kenzo\"\n",
      "\n"
     ]
    },
    {
     "data": {
      "text/plain": [
       "#<PACKAGE \"CAT-7\">"
      ]
     },
     "execution_count": 1,
     "metadata": {},
     "output_type": "execute_result"
    }
   ],
   "source": [
    "(ql:quickload \"kenzo\")\n",
    "(in-package :cat)"
   ]
  },
  {
   "cell_type": "markdown",
   "metadata": {},
   "source": [
    "# The Homology Module\n",
    "\n",
    "This chapter is devoted to the description of the functions for computing the homology groups of a chain complex.\n",
    "\n",
    "## List of functions\n",
    "\n",
    "`chcm-homology` *chcm dim* *\\[Function\\]*\n",
    "> Return a description of the $\\mathbb{Z}$-homology group in dimension *dim* of the chain complex *chcm* in terms of *components* of the form $\\mathbb{Z}$ or $\\mathbb{Z}/{n\\, \\mathbb{Z}}$. The desired homology group is the direct sum of these  components. No canonical presentation is looked for, so that, if for instance, a homology group is $\\mathbb{Z}/{6\\, \\mathbb{Z}}$, it can be displayed as one component $\\mathbb{Z}/{6\\, \\mathbb{Z}}$ or two components $\\mathbb{Z}/{2\\, \\mathbb{Z}}$ and $\\mathbb{Z}/{3\\, \\mathbb{Z}}$. On the other hand, if the component part  is void, this  means  the homology group is the null group. The function `chcm-homology` implements the usual algorithms to compute the homology group associated to two integer matrices, the composite of which is null. The current version is verbose: for each group asked for, the program displays the rank of each integer matrix and each generator of the source module. Timing indications are also given. In the examples, only the  components are printed.\n",
    "\n",
    "`chcm-homology-gen` *chcm n* *\\[Function\\]*\n",
    "> This function computes the homology group in dimension $n$ of the chain complex *chcm* and prints a generator of degree $n$ in *chcm* for each component of the group, that is, a combination of the  basis elements of degree $n$ of the chain complex, some cycle representing the corresponding homology class.\n",
    "\n",
    "`chcm-mat` *chcm n* *\\[Function\\]*\n",
    "> Return the matrix of the linear homomorphism  $d_n: C_n \\rightarrow C_{n-1}$, where $C_n$ is the $n$-th chain group of the chain complex *chcm*. More precisely, each column  of this matrix contains the integer coefficients in the basis of $C_{n-1}$ of the image by $d_n$ of each basis element of $C_n$. So the number of rows (resp. columns) of the matrix is the number of elements of the basis of $C_{n-1}$ (resp. $C_n$). The homology group ${\\cal H}_n={\\cal Z}_n/{\\cal B}_n$ is computed from the two matrices `MZ` $=$ `chcm-mat` *(chcm,n)* and `NB` $=$ `chcm-mat` *(chcm, n+1)*. By well known algorithms on matrix reduction (**S. MacLane & G. Birkhoff**, *Algebra*, The MacMillan Company, 1967), the matrix `MZ` is used to find a basis for the kernel ${\\cal Z}_n$ and the matrix `NB`, to find in ${\\cal Z}_n$ a presentation of the group ${\\cal H}_n={\\cal Z}_n/{\\cal B}_n$ by generators and relations. This is performed by the internal function `homologie` (beware: not `homology`!).\n",
    "\n",
    "`homology` *chcm degr1* `&optional (`*degr2* `(1+` *degr1*`))` *\\[Method\\]*\n",
    "> Compute the homology groups from $degr_1$ to $degr_2-1$ (default: only $degr_1$, if *degr2* is omitted) of the right chain complex of the homotopy equivalence contained in the slot `:efhm` of the\n",
    "chain complex instance *chcm*. At the creation of the chain complex, this slot is unbound and is set during execution by an adequate CLOS method. If this slot cannot be  bound, an error is returned and the homology groups cannot be computed. A more elaborated explanation of the mechanism used by the function `homology` is given in the  section: **The general method for computing homology groups.**\n",
    "\n",
    "\n",
    "## Example\n",
    "\n",
    "Let us get the homology groups for the example `diabolo` of the chapter 1."
   ]
  },
  {
   "cell_type": "code",
   "execution_count": 2,
   "metadata": {},
   "outputs": [
    {
     "data": {
      "text/plain": [
       "[K1 Chain-Complex]"
      ]
     },
     "execution_count": 2,
     "metadata": {},
     "output_type": "execute_result"
    }
   ],
   "source": [
    "(def diabolo (build-chcm\n",
    "              :cmpr #'s-cmpr\n",
    "              :basis #'(lambda (dmn)\n",
    "                               (case dmn\n",
    "                                   (0 '(s0 s1 s2 s3 s4 s5))\n",
    "                                   (1 '(s01 s02 s12 s23 s34 s35 s45))\n",
    "                                   (2 '(s345))\n",
    "                                   (otherwise nil)))\n",
    "              :bsgn 's0\n",
    "              :intr-dffr #'(lambda (dmn gnr)\n",
    "                                   (unless (<= 0 dmn 2)\n",
    "                                       (error \"Incorrect dimension for diabolo-dp.\"))\n",
    "                                   (case dmn\n",
    "                                       (0 (cmbn -1))  ; Note the null combination of degree -1\n",
    "                                       (1 (case gnr\n",
    "                                              (s01 (cmbn 0 -1 's0 1 's1))\n",
    "                                              (s02 (cmbn 0 -1 's0 1 's2))\n",
    "                                              (s12 (cmbn 0 -1 's1 1 's2))\n",
    "                                              (s23 (cmbn 0 -1 's2 1 's3))\n",
    "                                              (s34 (cmbn 0 -1 's3 1 's4))\n",
    "                                              (s35 (cmbn 0 -1 's3 1 's5))\n",
    "                                              (s45 (cmbn 0 -1 's4 1 's5))))\n",
    "                                        (2 (case gnr\n",
    "                                               (s345 (cmbn 1 1 's34 -1 's35 1 's45))))\n",
    "                                       (otherwise (error \"Bad generator for complex diabolo\"))))\n",
    "              :strt :GNRT\n",
    "              :orgn '(diabolo-for-example)))"
   ]
  },
  {
   "cell_type": "code",
   "execution_count": 3,
   "metadata": {},
   "outputs": [
    {
     "name": "stdout",
     "output_type": "stream",
     "text": [
      "\n",
      "Computing boundary-matrix in dimension 0.\n",
      "Rank of the source-module : 6.\n",
      "\n",
      "\n",
      ";; Clock -> 2020-01-09, 0h 55m 25s.\n",
      "Computing the boundary of the generator 1/6 (dimension 0) :\n",
      "S0 \n",
      "End of computing.\n",
      "\n",
      "\n",
      ";; Clock -> 2020-01-09, 0h 55m 25s.\n",
      "Computing the boundary of the generator 2/6 (dimension 0) :\n",
      "S1 \n",
      "End of computing.\n",
      "\n",
      "\n",
      ";; Clock -> 2020-01-09, 0h 55m 25s.\n",
      "Computing the boundary of the generator 3/6 (dimension 0) :\n",
      "S2 \n",
      "End of computing.\n",
      "\n",
      "\n",
      ";; Clock -> 2020-01-09, 0h 55m 25s.\n",
      "Computing the boundary of the generator 4/6 (dimension 0) :\n",
      "S3 \n",
      "End of computing.\n",
      "\n",
      "\n",
      ";; Clock -> 2020-01-09, 0h 55m 25s.\n",
      "Computing the boundary of the generator 5/6 (dimension 0) :\n",
      "S4 \n",
      "End of computing.\n",
      "\n",
      "\n",
      ";; Clock -> 2020-01-09, 0h 55m 25s.\n",
      "Computing the boundary of the generator 6/6 (dimension 0) :\n",
      "S5 \n",
      "End of computing.\n",
      "\n",
      "\n",
      "Computing boundary-matrix in dimension 1.\n",
      "Rank of the source-module : 7.\n",
      "\n",
      "\n",
      ";; Clock -> 2020-01-09, 0h 55m 25s.\n",
      "Computing the boundary of the generator 1/7 (dimension 1) :\n",
      "S01 \n",
      "End of computing.\n",
      "\n",
      "\n",
      ";; Clock -> 2020-01-09, 0h 55m 25s.\n",
      "Computing the boundary of the generator 2/7 (dimension 1) :\n",
      "S02 \n",
      "End of computing.\n",
      "\n",
      "\n",
      ";; Clock -> 2020-01-09, 0h 55m 25s.\n",
      "Computing the boundary of the generator 3/7 (dimension 1) :\n",
      "S12 \n",
      "End of computing.\n",
      "\n",
      "\n",
      ";; Clock -> 2020-01-09, 0h 55m 25s.\n",
      "Computing the boundary of the generator 4/7 (dimension 1) :\n",
      "S23 \n",
      "End of computing.\n",
      "\n",
      "\n",
      ";; Clock -> 2020-01-09, 0h 55m 25s.\n",
      "Computing the boundary of the generator 5/7 (dimension 1) :\n",
      "S34 \n",
      "End of computing.\n",
      "\n",
      "\n",
      ";; Clock -> 2020-01-09, 0h 55m 25s.\n",
      "Computing the boundary of the generator 6/7 (dimension 1) :\n",
      "S35 \n",
      "End of computing.\n",
      "\n",
      "\n",
      ";; Clock -> 2020-01-09, 0h 55m 25s.\n",
      "Computing the boundary of the generator 7/7 (dimension 1) :\n",
      "S45 \n",
      "End of computing.\n",
      "\n",
      "\n",
      "\n",
      "\n",
      "Homology in dimension 0 :\n",
      "\n",
      "\n",
      "Component Z\n",
      "\n",
      "\n",
      "---done---"
     ]
    },
    {
     "data": {
      "text/plain": [
       "NIL"
      ]
     },
     "execution_count": 3,
     "metadata": {},
     "output_type": "execute_result"
    }
   ],
   "source": [
    "(chcm-homology diabolo 0)"
   ]
  },
  {
   "cell_type": "code",
   "execution_count": 4,
   "metadata": {},
   "outputs": [
    {
     "name": "stdout",
     "output_type": "stream",
     "text": [
      "\n",
      "Computing boundary-matrix in dimension 1.\n",
      "Rank of the source-module : 7.\n",
      "\n",
      "\n",
      ";; Clock -> 2020-01-09, 0h 55m 25s.\n",
      "Computing the boundary of the generator 1/7 (dimension 1) :\n",
      "S01 \n",
      "End of computing.\n",
      "\n",
      "\n",
      ";; Clock -> 2020-01-09, 0h 55m 25s.\n",
      "Computing the boundary of the generator 2/7 (dimension 1) :\n",
      "S02 \n",
      "End of computing.\n",
      "\n",
      "\n",
      ";; Clock -> 2020-01-09, 0h 55m 25s.\n",
      "Computing the boundary of the generator 3/7 (dimension 1) :\n",
      "S12 \n",
      "End of computing.\n",
      "\n",
      "\n",
      ";; Clock -> 2020-01-09, 0h 55m 25s.\n",
      "Computing the boundary of the generator 4/7 (dimension 1) :\n",
      "S23 \n",
      "End of computing.\n",
      "\n",
      "\n",
      ";; Clock -> 2020-01-09, 0h 55m 25s.\n",
      "Computing the boundary of the generator 5/7 (dimension 1) :\n",
      "S34 \n",
      "End of computing.\n",
      "\n",
      "\n",
      ";; Clock -> 2020-01-09, 0h 55m 25s.\n",
      "Computing the boundary of the generator 6/7 (dimension 1) :\n",
      "S35 \n",
      "End of computing.\n",
      "\n",
      "\n",
      ";; Clock -> 2020-01-09, 0h 55m 25s.\n",
      "Computing the boundary of the generator 7/7 (dimension 1) :\n",
      "S45 \n",
      "End of computing.\n",
      "\n",
      "\n",
      "Computing boundary-matrix in dimension 2.\n",
      "Rank of the source-module : 1.\n",
      "\n",
      "\n",
      ";; Clock -> 2020-01-09, 0h 55m 25s.\n",
      "Computing the boundary of the generator 1/1 (dimension 2) :\n",
      "S345 \n",
      "End of computing.\n",
      "\n",
      "\n",
      "\n",
      "\n",
      "Homology in dimension 1 :\n",
      "\n",
      "\n",
      "Component Z\n",
      "\n",
      "\n",
      "---done---"
     ]
    },
    {
     "data": {
      "text/plain": [
       "NIL"
      ]
     },
     "execution_count": 4,
     "metadata": {},
     "output_type": "execute_result"
    }
   ],
   "source": [
    "(chcm-homology diabolo 1)"
   ]
  },
  {
   "cell_type": "code",
   "execution_count": 5,
   "metadata": {},
   "outputs": [
    {
     "name": "stdout",
     "output_type": "stream",
     "text": [
      "\n",
      "Computing boundary-matrix in dimension 2.\n",
      "Rank of the source-module : 1.\n",
      "\n",
      "\n",
      ";; Clock -> 2020-01-09, 0h 55m 25s.\n",
      "Computing the boundary of the generator 1/1 (dimension 2) :\n",
      "S345 \n",
      "End of computing.\n",
      "\n",
      "\n",
      "Computing boundary-matrix in dimension 3.\n",
      "Rank of the source-module : 0.\n",
      "\n",
      "\n",
      "\n",
      "\n",
      "Homology in dimension 2 :\n",
      "\n",
      "\n",
      "\n",
      "---done---"
     ]
    },
    {
     "data": {
      "text/plain": [
       "NIL"
      ]
     },
     "execution_count": 5,
     "metadata": {},
     "output_type": "execute_result"
    }
   ],
   "source": [
    "(chcm-homology diabolo 2)"
   ]
  },
  {
   "cell_type": "markdown",
   "metadata": {},
   "source": [
    "Another simple example is the following  2-chain  complex  corresponding to the well known *dunce hat*. We shall see later in the chapter `Simplicial Sets` a much more elegant method to describe this object."
   ]
  },
  {
   "cell_type": "code",
   "execution_count": 6,
   "metadata": {},
   "outputs": [
    {
     "data": {
      "image/png": "[encoded data removed]",
      "text/plain": [
       "#<CL-JUPYTER-USER::PNG-BYTES {1003572153}>"
      ]
     },
     "execution_count": 6,
     "metadata": {},
     "output_type": "execute_result"
    }
   ],
   "source": [
    "(cl-jupyter-user:png-from-file \"dunce.png\")"
   ]
  },
  {
   "cell_type": "markdown",
   "metadata": {},
   "source": [
    "The diagram shows a permissible triangulation. For the generators, we have  chosen lists rather symbols: a vertex $s_i$ is represented as `(i)`, an edge $s_is_j$ as `(i j)` and a triangle $s_is_js_k$ as `(i j k)`. The enumeration of the elements of the basis is a little  cumbersome but defining  the boundary homomorphism is very easy, bearing in mind the boundary rule:\n",
    "\n",
    "$$\n",
    "\\mathbf{d}[s_0s_1\\ldots s_n] = \\sum_{i=0}^n{(-1)^is_0s_1\\ldots\\widehat{s_i}\\ldots s_n}.\n",
    "$$\n",
    "\n",
    "As for diabolo, the vertices are implicitly ordered."
   ]
  },
  {
   "cell_type": "code",
   "execution_count": 7,
   "metadata": {},
   "outputs": [
    {
     "data": {
      "text/plain": [
       "#<FUNCTION (LAMBDA (DMN) :IN \"/home/jovyan/.cl-jupyter-master/cl-jupyter.lisp\") {5321FC1B}>"
      ]
     },
     "execution_count": 7,
     "metadata": {},
     "output_type": "execute_result"
    }
   ],
   "source": [
    "(def duncehat-basis #'(lambda (dmn)\n",
    "                              (case dmn\n",
    "                                  (0 '((0) (1) (2) (3) (4) (5) (6) (7)))\n",
    "                                  (1 '((0 1) (0 2) (0 3)\n",
    "                                       (0 4) (0 5) (0 6)\n",
    "                                       (0 7) (1 2) (1 3)\n",
    "                                       (1 4) (1 5) (1 6)\n",
    "                                       (1 7) (2 3) (2 4)\n",
    "                                       (2 6) (2 7) (3 4)\n",
    "                                       (3 5) (4 5) (4 6)\n",
    "                                       (5 6) (5 7) (6 7)))\n",
    "                                  (2 '((0 1 5) (0 1 6) (0 1 7)\n",
    "                                       (0 2 3) (0 2 4) (0 2 6)\n",
    "                                       (0 3 4) (0 5 7) (1 2 3)\n",
    "                                       (1 2 4) (1 2 7) (1 3 5)\n",
    "                                       (1 4 6) (2 6 7) (3 4 5)\n",
    "                                       (4 5 6) (5 6 7)))\n",
    "                                  (otherwise nil))))"
   ]
  },
  {
   "cell_type": "code",
   "execution_count": 8,
   "metadata": {},
   "outputs": [
    {
     "data": {
      "text/plain": [
       "#<FUNCTION (LAMBDA (DMN GNR) :IN \"/home/jovyan/.cl-jupyter-master/cl-jupyter.lisp\") {5321FCDB}>"
      ]
     },
     "execution_count": 8,
     "metadata": {},
     "output_type": "execute_result"
    }
   ],
   "source": [
    "(def duncehat-df #'(lambda (dmn gnr)\n",
    "                           (case dmn\n",
    "                               (0 (cmbn -1))\n",
    "                               (1 (cmbn 0 -1 (list (first gnr)) 1 (rest gnr)))\n",
    "                               (2 (cmbn 1 1 (list (first gnr) (second gnr))\n",
    "                                         -1 (list (first gnr) (third gnr))\n",
    "                                          1 (rest gnr)))\n",
    "                               (otherwise nil))))"
   ]
  },
  {
   "cell_type": "code",
   "execution_count": 9,
   "metadata": {},
   "outputs": [
    {
     "data": {
      "text/plain": [
       "[K3 Chain-Complex]"
      ]
     },
     "execution_count": 9,
     "metadata": {},
     "output_type": "execute_result"
    }
   ],
   "source": [
    "(def duncehat (build-chcm :cmpr #'l-cmpr\n",
    "                          :basis duncehat-basis\n",
    "                          :bsgn '(0)\n",
    "                          :intr-dffr duncehat-df\n",
    "                          :strt :gnrt\n",
    "                          :orgn '(dunce hat)))"
   ]
  },
  {
   "cell_type": "code",
   "execution_count": 10,
   "metadata": {},
   "outputs": [
    {
     "name": "stdout",
     "output_type": "stream",
     "text": [
      "\n",
      "Computing boundary-matrix in dimension 0.\n",
      "Rank of the source-module : 8.\n",
      "\n",
      "\n",
      ";; Clock -> 2020-01-09, 0h 55m 25s.\n",
      "Computing the boundary of the generator 1/8 (dimension 0) :\n",
      "(0) \n",
      "End of computing.\n",
      "\n",
      "\n",
      ";; Clock -> 2020-01-09, 0h 55m 25s.\n",
      "Computing the boundary of the generator 2/8 (dimension 0) :\n",
      "(1) \n",
      "End of computing.\n",
      "\n",
      "\n",
      ";; Clock -> 2020-01-09, 0h 55m 25s.\n",
      "Computing the boundary of the generator 3/8 (dimension 0) :\n",
      "(2) \n",
      "End of computing.\n",
      "\n",
      "\n",
      ";; Clock -> 2020-01-09, 0h 55m 25s.\n",
      "Computing the boundary of the generator 4/8 (dimension 0) :\n",
      "(3) \n",
      "End of computing.\n",
      "\n",
      "\n",
      ";; Clock -> 2020-01-09, 0h 55m 25s.\n",
      "Computing the boundary of the generator 5/8 (dimension 0) :\n",
      "(4) \n",
      "End of computing.\n",
      "\n",
      "\n",
      ";; Clock -> 2020-01-09, 0h 55m 25s.\n",
      "Computing the boundary of the generator 6/8 (dimension 0) :\n",
      "(5) \n",
      "End of computing.\n",
      "\n",
      "\n",
      ";; Clock -> 2020-01-09, 0h 55m 25s.\n",
      "Computing the boundary of the generator 7/8 (dimension 0) :\n",
      "(6) \n",
      "End of computing.\n",
      "\n",
      "\n",
      ";; Clock -> 2020-01-09, 0h 55m 25s.\n",
      "Computing the boundary of the generator 8/8 (dimension 0) :\n",
      "(7) \n",
      "End of computing.\n",
      "\n",
      "\n",
      "Computing boundary-matrix in dimension 1.\n",
      "Rank of the source-module : 24.\n",
      "\n",
      "\n",
      ";; Clock -> 2020-01-09, 0h 55m 25s.\n",
      "Computing the boundary of the generator 1/24 (dimension 1) :\n",
      "(0 1) \n",
      "End of computing.\n",
      "\n",
      "\n",
      ";; Clock -> 2020-01-09, 0h 55m 25s.\n",
      "Computing the boundary of the generator 2/24 (dimension 1) :\n",
      "(0 2) \n",
      "End of computing.\n",
      "\n",
      "\n",
      ";; Clock -> 2020-01-09, 0h 55m 25s.\n",
      "Computing the boundary of the generator 3/24 (dimension 1) :\n",
      "(0 3) \n",
      "End of computing.\n",
      "\n",
      "\n",
      ";; Clock -> 2020-01-09, 0h 55m 25s.\n",
      "Computing the boundary of the generator 4/24 (dimension 1) :\n",
      "(0 4) \n",
      "End of computing.\n",
      "\n",
      "\n",
      ";; Clock -> 2020-01-09, 0h 55m 25s.\n",
      "Computing the boundary of the generator 5/24 (dimension 1) :\n",
      "(0 5) \n",
      "End of computing.\n",
      "\n",
      "\n",
      ";; Clock -> 2020-01-09, 0h 55m 25s.\n",
      "Computing the boundary of the generator 6/24 (dimension 1) :\n",
      "(0 6) \n",
      "End of computing.\n",
      "\n",
      "\n",
      ";; Clock -> 2020-01-09, 0h 55m 25s.\n",
      "Computing the boundary of the generator 7/24 (dimension 1) :\n",
      "(0 7) \n",
      "End of computing.\n",
      "\n",
      "\n",
      ";; Clock -> 2020-01-09, 0h 55m 25s.\n",
      "Computing the boundary of the generator 8/24 (dimension 1) :\n",
      "(1 2) \n",
      "End of computing.\n",
      "\n",
      "\n",
      ";; Clock -> 2020-01-09, 0h 55m 25s.\n",
      "Computing the boundary of the generator 9/24 (dimension 1) :\n",
      "(1 3) \n",
      "End of computing.\n",
      "\n",
      "\n",
      ";; Clock -> 2020-01-09, 0h 55m 25s.\n",
      "Computing the boundary of the generator 10/24 (dimension 1) :\n",
      "(1 4) \n",
      "End of computing.\n",
      "\n",
      "\n",
      ";; Clock -> 2020-01-09, 0h 55m 25s.\n",
      "Computing the boundary of the generator 11/24 (dimension 1) :\n",
      "(1 5) \n",
      "End of computing.\n",
      "\n",
      "\n",
      ";; Clock -> 2020-01-09, 0h 55m 25s.\n",
      "Computing the boundary of the generator 12/24 (dimension 1) :\n",
      "(1 6) \n",
      "End of computing.\n",
      "\n",
      "\n",
      ";; Clock -> 2020-01-09, 0h 55m 25s.\n",
      "Computing the boundary of the generator 13/24 (dimension 1) :\n",
      "(1 7) \n",
      "End of computing.\n",
      "\n",
      "\n",
      ";; Clock -> 2020-01-09, 0h 55m 25s.\n",
      "Computing the boundary of the generator 14/24 (dimension 1) :\n",
      "(2 3) \n",
      "End of computing.\n",
      "\n",
      "\n",
      ";; Clock -> 2020-01-09, 0h 55m 25s.\n",
      "Computing the boundary of the generator 15/24 (dimension 1) :\n",
      "(2 4) \n",
      "End of computing.\n",
      "\n",
      "\n",
      ";; Clock -> 2020-01-09, 0h 55m 25s.\n",
      "Computing the boundary of the generator 16/24 (dimension 1) :\n",
      "(2 6) \n",
      "End of computing.\n",
      "\n",
      "\n",
      ";; Clock -> 2020-01-09, 0h 55m 25s.\n",
      "Computing the boundary of the generator 17/24 (dimension 1) :\n",
      "(2 7) \n",
      "End of computing.\n",
      "\n",
      "\n",
      ";; Clock -> 2020-01-09, 0h 55m 25s.\n",
      "Computing the boundary of the generator 18/24 (dimension 1) :\n",
      "(3 4) \n",
      "End of computing.\n",
      "\n",
      "\n",
      ";; Clock -> 2020-01-09, 0h 55m 25s.\n",
      "Computing the boundary of the generator 19/24 (dimension 1) :\n",
      "(3 5) \n",
      "End of computing.\n",
      "\n",
      "\n",
      ";; Clock -> 2020-01-09, 0h 55m 25s.\n",
      "Computing the boundary of the generator 20/24 (dimension 1) :\n",
      "(4 5) \n",
      "End of computing.\n",
      "\n",
      "\n",
      ";; Clock -> 2020-01-09, 0h 55m 25s.\n",
      "Computing the boundary of the generator 21/24 (dimension 1) :\n",
      "(4 6) \n",
      "End of computing.\n",
      "\n",
      "\n",
      ";; Clock -> 2020-01-09, 0h 55m 25s.\n",
      "Computing the boundary of the generator 22/24 (dimension 1) :\n",
      "(5 6) \n",
      "End of computing.\n",
      "\n",
      "\n",
      ";; Clock -> 2020-01-09, 0h 55m 25s.\n",
      "Computing the boundary of the generator 23/24 (dimension 1) :\n",
      "(5 7) \n",
      "End of computing.\n",
      "\n",
      "\n",
      ";; Clock -> 2020-01-09, 0h 55m 25s.\n",
      "Computing the boundary of the generator 24/24 (dimension 1) :\n",
      "(6 7) \n",
      "End of computing.\n",
      "\n",
      "\n",
      "\n",
      "\n",
      "Homology in dimension 0 :\n",
      "\n",
      "\n",
      "Component Z\n",
      "\n",
      "\n",
      "---done---"
     ]
    },
    {
     "data": {
      "text/plain": [
       "NIL"
      ]
     },
     "execution_count": 10,
     "metadata": {},
     "output_type": "execute_result"
    }
   ],
   "source": [
    "(chcm-homology duncehat 0)"
   ]
  },
  {
   "cell_type": "code",
   "execution_count": 11,
   "metadata": {},
   "outputs": [
    {
     "name": "stdout",
     "output_type": "stream",
     "text": [
      "\n",
      "Computing boundary-matrix in dimension 1.\n",
      "Rank of the source-module : 24.\n",
      "\n",
      "\n",
      ";; Clock -> 2020-01-09, 0h 55m 25s.\n",
      "Computing the boundary of the generator 1/24 (dimension 1) :\n",
      "(0 1) \n",
      "End of computing.\n",
      "\n",
      "\n",
      ";; Clock -> 2020-01-09, 0h 55m 25s.\n",
      "Computing the boundary of the generator 2/24 (dimension 1) :\n",
      "(0 2) \n",
      "End of computing.\n",
      "\n",
      "\n",
      ";; Clock -> 2020-01-09, 0h 55m 25s.\n",
      "Computing the boundary of the generator 3/24 (dimension 1) :\n",
      "(0 3) \n",
      "End of computing.\n",
      "\n",
      "\n",
      ";; Clock -> 2020-01-09, 0h 55m 25s.\n",
      "Computing the boundary of the generator 4/24 (dimension 1) :\n",
      "(0 4) \n",
      "End of computing.\n",
      "\n",
      "\n",
      ";; Clock -> 2020-01-09, 0h 55m 25s.\n",
      "Computing the boundary of the generator 5/24 (dimension 1) :\n",
      "(0 5) \n",
      "End of computing.\n",
      "\n",
      "\n",
      ";; Clock -> 2020-01-09, 0h 55m 25s.\n",
      "Computing the boundary of the generator 6/24 (dimension 1) :\n",
      "(0 6) \n",
      "End of computing.\n",
      "\n",
      "\n",
      ";; Clock -> 2020-01-09, 0h 55m 25s.\n",
      "Computing the boundary of the generator 7/24 (dimension 1) :\n",
      "(0 7) \n",
      "End of computing.\n",
      "\n",
      "\n",
      ";; Clock -> 2020-01-09, 0h 55m 25s.\n",
      "Computing the boundary of the generator 8/24 (dimension 1) :\n",
      "(1 2) \n",
      "End of computing.\n",
      "\n",
      "\n",
      ";; Clock -> 2020-01-09, 0h 55m 25s.\n",
      "Computing the boundary of the generator 9/24 (dimension 1) :\n",
      "(1 3) \n",
      "End of computing.\n",
      "\n",
      "\n",
      ";; Clock -> 2020-01-09, 0h 55m 25s.\n",
      "Computing the boundary of the generator 10/24 (dimension 1) :\n",
      "(1 4) \n",
      "End of computing.\n",
      "\n",
      "\n",
      ";; Clock -> 2020-01-09, 0h 55m 25s.\n",
      "Computing the boundary of the generator 11/24 (dimension 1) :\n",
      "(1 5) \n",
      "End of computing.\n",
      "\n",
      "\n",
      ";; Clock -> 2020-01-09, 0h 55m 25s.\n",
      "Computing the boundary of the generator 12/24 (dimension 1) :\n",
      "(1 6) \n",
      "End of computing.\n",
      "\n",
      "\n",
      ";; Clock -> 2020-01-09, 0h 55m 25s.\n",
      "Computing the boundary of the generator 13/24 (dimension 1) :\n",
      "(1 7) \n",
      "End of computing.\n",
      "\n",
      "\n",
      ";; Clock -> 2020-01-09, 0h 55m 25s.\n",
      "Computing the boundary of the generator 14/24 (dimension 1) :\n",
      "(2 3) \n",
      "End of computing.\n",
      "\n",
      "\n",
      ";; Clock -> 2020-01-09, 0h 55m 25s.\n",
      "Computing the boundary of the generator 15/24 (dimension 1) :\n",
      "(2 4) \n",
      "End of computing.\n",
      "\n",
      "\n",
      ";; Clock -> 2020-01-09, 0h 55m 25s.\n",
      "Computing the boundary of the generator 16/24 (dimension 1) :\n",
      "(2 6) \n",
      "End of computing.\n",
      "\n",
      "\n",
      ";; Clock -> 2020-01-09, 0h 55m 25s.\n",
      "Computing the boundary of the generator 17/24 (dimension 1) :\n",
      "(2 7) \n",
      "End of computing.\n",
      "\n",
      "\n",
      ";; Clock -> 2020-01-09, 0h 55m 25s.\n",
      "Computing the boundary of the generator 18/24 (dimension 1) :\n",
      "(3 4) \n",
      "End of computing.\n",
      "\n",
      "\n",
      ";; Clock -> 2020-01-09, 0h 55m 25s.\n",
      "Computing the boundary of the generator 19/24 (dimension 1) :\n",
      "(3 5) \n",
      "End of computing.\n",
      "\n",
      "\n",
      ";; Clock -> 2020-01-09, 0h 55m 25s.\n",
      "Computing the boundary of the generator 20/24 (dimension 1) :\n",
      "(4 5) \n",
      "End of computing.\n",
      "\n",
      "\n",
      ";; Clock -> 2020-01-09, 0h 55m 25s.\n",
      "Computing the boundary of the generator 21/24 (dimension 1) :\n",
      "(4 6) \n",
      "End of computing.\n",
      "\n",
      "\n",
      ";; Clock -> 2020-01-09, 0h 55m 25s.\n",
      "Computing the boundary of the generator 22/24 (dimension 1) :\n",
      "(5 6) \n",
      "End of computing.\n",
      "\n",
      "\n",
      ";; Clock -> 2020-01-09, 0h 55m 25s.\n",
      "Computing the boundary of the generator 23/24 (dimension 1) :\n",
      "(5 7) \n",
      "End of computing.\n",
      "\n",
      "\n",
      ";; Clock -> 2020-01-09, 0h 55m 25s.\n",
      "Computing the boundary of the generator 24/24 (dimension 1) :\n",
      "(6 7) \n",
      "End of computing.\n",
      "\n",
      "\n",
      "Computing boundary-matrix in dimension 2.\n",
      "Rank of the source-module : 17.\n",
      "\n",
      "\n",
      ";; Clock -> 2020-01-09, 0h 55m 25s.\n",
      "Computing the boundary of the generator 1/17 (dimension 2) :\n",
      "(0 1 5) \n",
      "End of computing.\n",
      "\n",
      "\n",
      ";; Clock -> 2020-01-09, 0h 55m 25s.\n",
      "Computing the boundary of the generator 2/17 (dimension 2) :\n",
      "(0 1 6) \n",
      "End of computing.\n",
      "\n",
      "\n",
      ";; Clock -> 2020-01-09, 0h 55m 25s.\n",
      "Computing the boundary of the generator 3/17 (dimension 2) :\n",
      "(0 1 7) \n",
      "End of computing.\n",
      "\n",
      "\n",
      ";; Clock -> 2020-01-09, 0h 55m 25s.\n",
      "Computing the boundary of the generator 4/17 (dimension 2) :\n",
      "(0 2 3) \n",
      "End of computing.\n",
      "\n",
      "\n",
      ";; Clock -> 2020-01-09, 0h 55m 25s.\n",
      "Computing the boundary of the generator 5/17 (dimension 2) :\n",
      "(0 2 4) \n",
      "End of computing.\n",
      "\n",
      "\n",
      ";; Clock -> 2020-01-09, 0h 55m 25s.\n",
      "Computing the boundary of the generator 6/17 (dimension 2) :\n",
      "(0 2 6) \n",
      "End of computing.\n",
      "\n",
      "\n",
      ";; Clock -> 2020-01-09, 0h 55m 25s.\n",
      "Computing the boundary of the generator 7/17 (dimension 2) :\n",
      "(0 3 4) \n",
      "End of computing.\n",
      "\n",
      "\n",
      ";; Clock -> 2020-01-09, 0h 55m 25s.\n",
      "Computing the boundary of the generator 8/17 (dimension 2) :\n",
      "(0 5 7) \n",
      "End of computing.\n",
      "\n",
      "\n",
      ";; Clock -> 2020-01-09, 0h 55m 25s.\n",
      "Computing the boundary of the generator 9/17 (dimension 2) :\n",
      "(1 2 3) \n",
      "End of computing.\n",
      "\n",
      "\n",
      ";; Clock -> 2020-01-09, 0h 55m 25s.\n",
      "Computing the boundary of the generator 10/17 (dimension 2) :\n",
      "(1 2 4) \n",
      "End of computing.\n",
      "\n",
      "\n",
      ";; Clock -> 2020-01-09, 0h 55m 25s.\n",
      "Computing the boundary of the generator 11/17 (dimension 2) :\n",
      "(1 2 7) \n",
      "End of computing.\n",
      "\n",
      "\n",
      ";; Clock -> 2020-01-09, 0h 55m 25s.\n",
      "Computing the boundary of the generator 12/17 (dimension 2) :\n",
      "(1 3 5) \n",
      "End of computing.\n",
      "\n",
      "\n",
      ";; Clock -> 2020-01-09, 0h 55m 25s.\n",
      "Computing the boundary of the generator 13/17 (dimension 2) :\n",
      "(1 4 6) \n",
      "End of computing.\n",
      "\n",
      "\n",
      ";; Clock -> 2020-01-09, 0h 55m 25s.\n",
      "Computing the boundary of the generator 14/17 (dimension 2) :\n",
      "(2 6 7) \n",
      "End of computing.\n",
      "\n",
      "\n",
      ";; Clock -> 2020-01-09, 0h 55m 25s.\n",
      "Computing the boundary of the generator 15/17 (dimension 2) :\n",
      "(3 4 5) \n",
      "End of computing.\n",
      "\n",
      "\n",
      ";; Clock -> 2020-01-09, 0h 55m 25s.\n",
      "Computing the boundary of the generator 16/17 (dimension 2) :\n",
      "(4 5 6) \n",
      "End of computing.\n",
      "\n",
      "\n",
      ";; Clock -> 2020-01-09, 0h 55m 25s.\n",
      "Computing the boundary of the generator 17/17 (dimension 2) :\n",
      "(5 6 7) \n",
      "End of computing.\n",
      "\n",
      "\n",
      "\n",
      "\n",
      "Homology in dimension 1 :\n",
      "\n",
      "\n",
      "\n",
      "---done---"
     ]
    },
    {
     "data": {
      "text/plain": [
       "NIL"
      ]
     },
     "execution_count": 11,
     "metadata": {},
     "output_type": "execute_result"
    }
   ],
   "source": [
    "(chcm-homology duncehat 1)"
   ]
  },
  {
   "cell_type": "code",
   "execution_count": 12,
   "metadata": {},
   "outputs": [
    {
     "name": "stdout",
     "output_type": "stream",
     "text": [
      "\n",
      "Computing boundary-matrix in dimension 2.\n",
      "Rank of the source-module : 17.\n",
      "\n",
      "\n",
      ";; Clock -> 2020-01-09, 0h 55m 25s.\n",
      "Computing the boundary of the generator 1/17 (dimension 2) :\n",
      "(0 1 5) \n",
      "End of computing.\n",
      "\n",
      "\n",
      ";; Clock -> 2020-01-09, 0h 55m 25s.\n",
      "Computing the boundary of the generator 2/17 (dimension 2) :\n",
      "(0 1 6) \n",
      "End of computing.\n",
      "\n",
      "\n",
      ";; Clock -> 2020-01-09, 0h 55m 25s.\n",
      "Computing the boundary of the generator 3/17 (dimension 2) :\n",
      "(0 1 7) \n",
      "End of computing.\n",
      "\n",
      "\n",
      ";; Clock -> 2020-01-09, 0h 55m 25s.\n",
      "Computing the boundary of the generator 4/17 (dimension 2) :\n",
      "(0 2 3) \n",
      "End of computing.\n",
      "\n",
      "\n",
      ";; Clock -> 2020-01-09, 0h 55m 25s.\n",
      "Computing the boundary of the generator 5/17 (dimension 2) :\n",
      "(0 2 4) \n",
      "End of computing.\n",
      "\n",
      "\n",
      ";; Clock -> 2020-01-09, 0h 55m 25s.\n",
      "Computing the boundary of the generator 6/17 (dimension 2) :\n",
      "(0 2 6) \n",
      "End of computing.\n",
      "\n",
      "\n",
      ";; Clock -> 2020-01-09, 0h 55m 25s.\n",
      "Computing the boundary of the generator 7/17 (dimension 2) :\n",
      "(0 3 4) \n",
      "End of computing.\n",
      "\n",
      "\n",
      ";; Clock -> 2020-01-09, 0h 55m 25s.\n",
      "Computing the boundary of the generator 8/17 (dimension 2) :\n",
      "(0 5 7) \n",
      "End of computing.\n",
      "\n",
      "\n",
      ";; Clock -> 2020-01-09, 0h 55m 25s.\n",
      "Computing the boundary of the generator 9/17 (dimension 2) :\n",
      "(1 2 3) \n",
      "End of computing.\n",
      "\n",
      "\n",
      ";; Clock -> 2020-01-09, 0h 55m 25s.\n",
      "Computing the boundary of the generator 10/17 (dimension 2) :\n",
      "(1 2 4) \n",
      "End of computing.\n",
      "\n",
      "\n",
      ";; Clock -> 2020-01-09, 0h 55m 25s.\n",
      "Computing the boundary of the generator 11/17 (dimension 2) :\n",
      "(1 2 7) \n",
      "End of computing.\n",
      "\n",
      "\n",
      ";; Clock -> 2020-01-09, 0h 55m 25s.\n",
      "Computing the boundary of the generator 12/17 (dimension 2) :\n",
      "(1 3 5) \n",
      "End of computing.\n",
      "\n",
      "\n",
      ";; Clock -> 2020-01-09, 0h 55m 25s.\n",
      "Computing the boundary of the generator 13/17 (dimension 2) :\n",
      "(1 4 6) \n",
      "End of computing.\n",
      "\n",
      "\n",
      ";; Clock -> 2020-01-09, 0h 55m 25s.\n",
      "Computing the boundary of the generator 14/17 (dimension 2) :\n",
      "(2 6 7) \n",
      "End of computing.\n",
      "\n",
      "\n",
      ";; Clock -> 2020-01-09, 0h 55m 25s.\n",
      "Computing the boundary of the generator 15/17 (dimension 2) :\n",
      "(3 4 5) \n",
      "End of computing.\n",
      "\n",
      "\n",
      ";; Clock -> 2020-01-09, 0h 55m 25s.\n",
      "Computing the boundary of the generator 16/17 (dimension 2) :\n",
      "(4 5 6) \n",
      "End of computing.\n",
      "\n",
      "\n",
      ";; Clock -> 2020-01-09, 0h 55m 25s.\n",
      "Computing the boundary of the generator 17/17 (dimension 2) :\n",
      "(5 6 7) \n",
      "End of computing.\n",
      "\n",
      "\n",
      "Computing boundary-matrix in dimension 3.\n",
      "Rank of the source-module : 0.\n",
      "\n",
      "\n",
      "\n",
      "\n",
      "Homology in dimension 2 :\n",
      "\n",
      "\n",
      "\n",
      "---done---"
     ]
    },
    {
     "data": {
      "text/plain": [
       "NIL"
      ]
     },
     "execution_count": 12,
     "metadata": {},
     "output_type": "execute_result"
    }
   ],
   "source": [
    "(chcm-homology duncehat 2)"
   ]
  },
  {
   "cell_type": "markdown",
   "metadata": {},
   "source": [
    "We remark the homology of this \"dunce hat\" is the homology of  one point. Good exercise: compute the $\\pi_1$. A maximal \"tree\" is the path $01234567$, and the standard reduction process, for example $35~345$, etc., shows the $\\pi_1$ is generated by the loop $0120$. The same sort of argument shows this loop is homotopic to its double, and therefore null-homotopic, so that finally $\\pi_1 = 0$. A famous theorem of Whitehead then asserts our \"dunce hat\" is contractible, which is not really intuitive. The same result via the minimal triangulation of the dunce hat as a simplicial set is much easier.\n",
    "\n",
    "Let us take again  the chain complex `duncehat`. The two matrices of the homomorphisms $d_1: C_1 \\rightarrow C_0$ and $d_2: C_2 \\rightarrow C_1$ are obtained by calling `chcm-mat`."
   ]
  },
  {
   "cell_type": "code",
   "execution_count": 13,
   "metadata": {},
   "outputs": [
    {
     "name": "stdout",
     "output_type": "stream",
     "text": [
      "\n",
      "Computing boundary-matrix in dimension 1.\n",
      "Rank of the source-module : 24.\n",
      "\n",
      "\n",
      ";; Clock -> 2020-01-09, 0h 55m 25s.\n",
      "Computing the boundary of the generator 1/24 (dimension 1) :\n",
      "(0 1) \n",
      "End of computing.\n",
      "\n",
      "\n",
      ";; Clock -> 2020-01-09, 0h 55m 25s.\n",
      "Computing the boundary of the generator 2/24 (dimension 1) :\n",
      "(0 2) \n",
      "End of computing.\n",
      "\n",
      "\n",
      ";; Clock -> 2020-01-09, 0h 55m 25s.\n",
      "Computing the boundary of the generator 3/24 (dimension 1) :\n",
      "(0 3) \n",
      "End of computing.\n",
      "\n",
      "\n",
      ";; Clock -> 2020-01-09, 0h 55m 25s.\n",
      "Computing the boundary of the generator 4/24 (dimension 1) :\n",
      "(0 4) \n",
      "End of computing.\n",
      "\n",
      "\n",
      ";; Clock -> 2020-01-09, 0h 55m 25s.\n",
      "Computing the boundary of the generator 5/24 (dimension 1) :\n",
      "(0 5) \n",
      "End of computing.\n",
      "\n",
      "\n",
      ";; Clock -> 2020-01-09, 0h 55m 25s.\n",
      "Computing the boundary of the generator 6/24 (dimension 1) :\n",
      "(0 6) \n",
      "End of computing.\n",
      "\n",
      "\n",
      ";; Clock -> 2020-01-09, 0h 55m 25s.\n",
      "Computing the boundary of the generator 7/24 (dimension 1) :\n",
      "(0 7) \n",
      "End of computing.\n",
      "\n",
      "\n",
      ";; Clock -> 2020-01-09, 0h 55m 25s.\n",
      "Computing the boundary of the generator 8/24 (dimension 1) :\n",
      "(1 2) \n",
      "End of computing.\n",
      "\n",
      "\n",
      ";; Clock -> 2020-01-09, 0h 55m 25s.\n",
      "Computing the boundary of the generator 9/24 (dimension 1) :\n",
      "(1 3) \n",
      "End of computing.\n",
      "\n",
      "\n",
      ";; Clock -> 2020-01-09, 0h 55m 25s.\n",
      "Computing the boundary of the generator 10/24 (dimension 1) :\n",
      "(1 4) \n",
      "End of computing.\n",
      "\n",
      "\n",
      ";; Clock -> 2020-01-09, 0h 55m 25s.\n",
      "Computing the boundary of the generator 11/24 (dimension 1) :\n",
      "(1 5) \n",
      "End of computing.\n",
      "\n",
      "\n",
      ";; Clock -> 2020-01-09, 0h 55m 25s.\n",
      "Computing the boundary of the generator 12/24 (dimension 1) :\n",
      "(1 6) \n",
      "End of computing.\n",
      "\n",
      "\n",
      ";; Clock -> 2020-01-09, 0h 55m 25s.\n",
      "Computing the boundary of the generator 13/24 (dimension 1) :\n",
      "(1 7) \n",
      "End of computing.\n",
      "\n",
      "\n",
      ";; Clock -> 2020-01-09, 0h 55m 25s.\n",
      "Computing the boundary of the generator 14/24 (dimension 1) :\n",
      "(2 3) \n",
      "End of computing.\n",
      "\n",
      "\n",
      ";; Clock -> 2020-01-09, 0h 55m 25s.\n",
      "Computing the boundary of the generator 15/24 (dimension 1) :\n",
      "(2 4) \n",
      "End of computing.\n",
      "\n",
      "\n",
      ";; Clock -> 2020-01-09, 0h 55m 25s.\n",
      "Computing the boundary of the generator 16/24 (dimension 1) :\n",
      "(2 6) \n",
      "End of computing.\n",
      "\n",
      "\n",
      ";; Clock -> 2020-01-09, 0h 55m 25s.\n",
      "Computing the boundary of the generator 17/24 (dimension 1) :\n",
      "(2 7) \n",
      "End of computing.\n",
      "\n",
      "\n",
      ";; Clock -> 2020-01-09, 0h 55m 25s.\n",
      "Computing the boundary of the generator 18/24 (dimension 1) :\n",
      "(3 4) \n",
      "End of computing.\n",
      "\n",
      "\n",
      ";; Clock -> 2020-01-09, 0h 55m 25s.\n",
      "Computing the boundary of the generator 19/24 (dimension 1) :\n",
      "(3 5) \n",
      "End of computing.\n",
      "\n",
      "\n",
      ";; Clock -> 2020-01-09, 0h 55m 25s.\n",
      "Computing the boundary of the generator 20/24 (dimension 1) :\n",
      "(4 5) \n",
      "End of computing.\n",
      "\n",
      "\n",
      ";; Clock -> 2020-01-09, 0h 55m 25s.\n",
      "Computing the boundary of the generator 21/24 (dimension 1) :\n",
      "(4 6) \n",
      "End of computing.\n",
      "\n",
      "\n",
      ";; Clock -> 2020-01-09, 0h 55m 25s.\n",
      "Computing the boundary of the generator 22/24 (dimension 1) :\n",
      "(5 6) \n",
      "End of computing.\n",
      "\n",
      "\n",
      ";; Clock -> 2020-01-09, 0h 55m 25s.\n",
      "Computing the boundary of the generator 23/24 (dimension 1) :\n",
      "(5 7) \n",
      "End of computing.\n",
      "\n",
      "\n",
      ";; Clock -> 2020-01-09, 0h 55m 25s.\n",
      "Computing the boundary of the generator 24/24 (dimension 1) :\n",
      "(6 7) \n",
      "End of computing.\n",
      "\n"
     ]
    },
    {
     "data": {
      "text/plain": [
       "\n",
       "========== MATRIX 8 lines + 24 columns =====\n",
       "L1=[C1=-1][C2=-1][C3=-1][C4=-1][C5=-1][C6=-1][C7=-1]\n",
       "L2=[C1=1][C8=-1][C9=-1][C10=-1][C11=-1][C12=-1][C13=-1]\n",
       "L3=[C2=1][C8=1][C14=-1][C15=-1][C16=-1][C17=-1]\n",
       "L4=[C3=1][C9=1][C14=1][C18=-1][C19=-1]\n",
       "L5=[C4=1][C10=1][C15=1][C18=1][C20=-1][C21=-1]\n",
       "L6=[C5=1][C11=1][C19=1][C20=1][C22=-1][C23=-1]\n",
       "L7=[C6=1][C12=1][C16=1][C21=1][C22=1][C24=-1]\n",
       "L8=[C7=1][C13=1][C17=1][C23=1][C24=1]\n",
       "========== END-MATRIX"
      ]
     },
     "execution_count": 13,
     "metadata": {},
     "output_type": "execute_result"
    }
   ],
   "source": [
    "(def mz (chcm-mat duncehat 1))"
   ]
  },
  {
   "cell_type": "code",
   "execution_count": 14,
   "metadata": {},
   "outputs": [
    {
     "name": "stdout",
     "output_type": "stream",
     "text": [
      "\n",
      "Computing boundary-matrix in dimension 2.\n",
      "Rank of the source-module : 17.\n",
      "\n",
      "\n",
      ";; Clock -> 2020-01-09, 0h 55m 25s.\n",
      "Computing the boundary of the generator 1/17 (dimension 2) :\n",
      "(0 1 5) \n",
      "End of computing.\n",
      "\n",
      "\n",
      ";; Clock -> 2020-01-09, 0h 55m 25s.\n",
      "Computing the boundary of the generator 2/17 (dimension 2) :\n",
      "(0 1 6) \n",
      "End of computing.\n",
      "\n",
      "\n",
      ";; Clock -> 2020-01-09, 0h 55m 25s.\n",
      "Computing the boundary of the generator 3/17 (dimension 2) :\n",
      "(0 1 7) \n",
      "End of computing.\n",
      "\n",
      "\n",
      ";; Clock -> 2020-01-09, 0h 55m 25s.\n",
      "Computing the boundary of the generator 4/17 (dimension 2) :\n",
      "(0 2 3) \n",
      "End of computing.\n",
      "\n",
      "\n",
      ";; Clock -> 2020-01-09, 0h 55m 25s.\n",
      "Computing the boundary of the generator 5/17 (dimension 2) :\n",
      "(0 2 4) \n",
      "End of computing.\n",
      "\n",
      "\n",
      ";; Clock -> 2020-01-09, 0h 55m 25s.\n",
      "Computing the boundary of the generator 6/17 (dimension 2) :\n",
      "(0 2 6) \n",
      "End of computing.\n",
      "\n",
      "\n",
      ";; Clock -> 2020-01-09, 0h 55m 25s.\n",
      "Computing the boundary of the generator 7/17 (dimension 2) :\n",
      "(0 3 4) \n",
      "End of computing.\n",
      "\n",
      "\n",
      ";; Clock -> 2020-01-09, 0h 55m 25s.\n",
      "Computing the boundary of the generator 8/17 (dimension 2) :\n",
      "(0 5 7) \n",
      "End of computing.\n",
      "\n",
      "\n",
      ";; Clock -> 2020-01-09, 0h 55m 25s.\n",
      "Computing the boundary of the generator 9/17 (dimension 2) :\n",
      "(1 2 3) \n",
      "End of computing.\n",
      "\n",
      "\n",
      ";; Clock -> 2020-01-09, 0h 55m 25s.\n",
      "Computing the boundary of the generator 10/17 (dimension 2) :\n",
      "(1 2 4) \n",
      "End of computing.\n",
      "\n",
      "\n",
      ";; Clock -> 2020-01-09, 0h 55m 25s.\n",
      "Computing the boundary of the generator 11/17 (dimension 2) :\n",
      "(1 2 7) \n",
      "End of computing.\n",
      "\n",
      "\n",
      ";; Clock -> 2020-01-09, 0h 55m 25s.\n",
      "Computing the boundary of the generator 12/17 (dimension 2) :\n",
      "(1 3 5) \n",
      "End of computing.\n",
      "\n",
      "\n",
      ";; Clock -> 2020-01-09, 0h 55m 25s.\n",
      "Computing the boundary of the generator 13/17 (dimension 2) :\n",
      "(1 4 6) \n",
      "End of computing.\n",
      "\n",
      "\n",
      ";; Clock -> 2020-01-09, 0h 55m 25s.\n",
      "Computing the boundary of the generator 14/17 (dimension 2) :\n",
      "(2 6 7) \n",
      "End of computing.\n",
      "\n",
      "\n",
      ";; Clock -> 2020-01-09, 0h 55m 25s.\n",
      "Computing the boundary of the generator 15/17 (dimension 2) :\n",
      "(3 4 5) \n",
      "End of computing.\n",
      "\n",
      "\n",
      ";; Clock -> 2020-01-09, 0h 55m 25s.\n",
      "Computing the boundary of the generator 16/17 (dimension 2) :\n",
      "(4 5 6) \n",
      "End of computing.\n",
      "\n",
      "\n",
      ";; Clock -> 2020-01-09, 0h 55m 25s.\n",
      "Computing the boundary of the generator 17/17 (dimension 2) :\n",
      "(5 6 7) \n",
      "End of computing.\n",
      "\n"
     ]
    },
    {
     "data": {
      "text/plain": [
       "\n",
       "========== MATRIX 24 lines + 17 columns =====\n",
       "L1=[C1=1][C2=1][C3=1]\n",
       "L2=[C4=1][C5=1][C6=1]\n",
       "L3=[C4=-1][C7=1]\n",
       "L4=[C5=-1][C7=-1]\n",
       "L5=[C1=-1][C8=1]\n",
       "L6=[C2=-1][C6=-1]\n",
       "L7=[C3=-1][C8=-1]\n",
       "L8=[C9=1][C10=1][C11=1]\n",
       "L9=[C9=-1][C12=1]\n",
       "L10=[C10=-1][C13=1]\n",
       "L11=[C1=1][C12=-1]\n",
       "L12=[C2=1][C13=-1]\n",
       "L13=[C3=1][C11=-1]\n",
       "L14=[C4=1][C9=1]\n",
       "L15=[C5=1][C10=1]\n",
       "L16=[C6=1][C14=1]\n",
       "L17=[C11=1][C14=-1]\n",
       "L18=[C7=1][C15=1]\n",
       "L19=[C12=1][C15=-1]\n",
       "L20=[C15=1][C16=1]\n",
       "L21=[C13=1][C16=-1]\n",
       "L22=[C16=1][C17=1]\n",
       "L23=[C8=1][C17=-1]\n",
       "L24=[C14=1][C17=1]\n",
       "========== END-MATRIX"
      ]
     },
     "execution_count": 14,
     "metadata": {},
     "output_type": "execute_result"
    }
   ],
   "source": [
    "(def nb (chcm-mat duncehat 2))"
   ]
  },
  {
   "cell_type": "code",
   "execution_count": 15,
   "metadata": {},
   "outputs": [
    {
     "data": {
      "text/plain": [
       "NIL"
      ]
     },
     "execution_count": 15,
     "metadata": {},
     "output_type": "execute_result"
    }
   ],
   "source": [
    "(homologie mz nb)"
   ]
  },
  {
   "cell_type": "markdown",
   "metadata": {},
   "source": [
    "## The general method for computing homology\n",
    "\n",
    "Among the slots of the instance of an object inheriting the `CHAIN COMPLEX` class, a slot `efhm`\n",
    "has been reserved to point (possibly) to a homotopy equivalence where the right bottom chain complex is effective. The function `homology` is designed to get the right bottom chain complex of the homotopy equivalence value of the slot. If the slot has been bound, then the homology groups are computed by the function `chcm-homology` as shown in the following definition:\n",
    "\n",
    "```commonlisp\n",
    "(DEFMETHOD HOMOLOGY ((chcm chain-complex) degr1 &optional (degr2 (1+ degr1)))\n",
    "   (do ((degr degr1 (1+ degr)))\n",
    "       ((>= degr degr2))\n",
    " -->   (chcm-homology (rbcc (efhm chcm)) degr)\n",
    "       (terpri) (clock) (terpri)))\n",
    "```\n",
    "\n",
    "But, at the creation of the object, the slot `efhm` is  unbound and as soon as the `homology`\n",
    "function tries to get the content of the slot `efhm` via the call `(efchm chcm)`, the *slot-unbound* mechanism of CLOS is triggered, calling at its turn a method `search-efhm` depending on the object. If no method is available for this object, `NIL` is returned. In the following chapters, we shall see that cases have been written for cartesian products, tensor products, suspensions, disk pasting, fibrations, loop spaces, and classifying spaces. The selection of the case is done thanks to the information contained in the comment list of the object (slot `orgn`). In each case, the `search-efhm` method builds - in general with a complex machinery, including a possible recursivity - a homotopy equivalence where the right bottom chain complex is *effective*. The slot `efhm` of the object is then settled and the homology group computation may begin. If `NIL` is returned, then  and only at this moment, the slot-unbound mechanism looks if the chain complex is finite (checking if a basis function exists). If this is the case, then the *trivial homotopy equivalence* is built upon the chain complex and this gives the value of the slot `efhm`. If there is no basis function,  meaning that probably the chain complex is locally effective, an error is returned.\n",
    "\n",
    "*Remark.* The user may wonder why one does not  look first if the given object is effective. We recall simply that even in the case of an effective chain complex, it is sometimes possible to find another effective chain complex, homotopic to the first and whose number of basis elements, in any dimensions, is considerably smaller in comparison with the first one. A striking case will be shown in a further chapter, showing the application of the Eilenberg-Zilber theorem to a cartesian product.\n",
    "\n",
    "\n",
    "### Example\n",
    "\n",
    "*The reading of this subsection may be postponed until a full reading of this user's guide.* The following examples  show how are filled the slots `efhm` of the various objects. Starting from the sphere $S^2$, we  verify first that the *efhm* slot is unbound. Then we ask for ${\\cal H}_1$ and verify that, though there is a finite basis, `Kenzo` has nevertheless built a trivial homotopy equivalence on this object."
   ]
  },
  {
   "cell_type": "code",
   "execution_count": 16,
   "metadata": {},
   "outputs": [
    {
     "name": "stdout",
     "output_type": "stream",
     "text": [
      "\n",
      "---done---"
     ]
    },
    {
     "data": {
      "text/plain": [
       "NIL"
      ]
     },
     "execution_count": 16,
     "metadata": {},
     "output_type": "execute_result"
    }
   ],
   "source": [
    "(cat-init)"
   ]
  },
  {
   "cell_type": "code",
   "execution_count": 17,
   "metadata": {},
   "outputs": [
    {
     "data": {
      "text/plain": [
       "[K1 Simplicial-Set]"
      ]
     },
     "execution_count": 17,
     "metadata": {},
     "output_type": "execute_result"
    }
   ],
   "source": [
    "(def s2 (sphere 2))"
   ]
  },
  {
   "cell_type": "code",
   "execution_count": 18,
   "metadata": {},
   "outputs": [
    {
     "name": "stdout",
     "output_type": "stream",
     "text": [
      "\n",
      "The object is a STANDARD-OBJECT of type SIMPLICIAL-SET.\n",
      "0. CMPR: #<FUNCTION SPHERE-CMPR>\n",
      "1. BASIS: #<CLOSURE (FLET RSLT :IN SPHERE-BASIS) {1003C2775B}>\n",
      "2. BSGN: *\n",
      "3. DFFR: [K2 Morphism (degree -1): K1 -> K1]\n",
      "4. GRMD: [K1 Simplicial-Set]\n",
      "5. EFHM: \"unbound\"\n",
      "6. IDNM: 1\n",
      "7. ORGN: (SPHERE 2)\n",
      "8. CPRD: [K5 Morphism (degree 0): K1 -> K3]\n",
      "9. FACE: #<CLOSURE (FLET RSLT :IN SPHERE-FACE) {1003C2779B}>\n",
      "> "
     ]
    },
    {
     "data": {
      "text/plain": [
       "NIL"
      ]
     },
     "execution_count": 18,
     "metadata": {},
     "output_type": "execute_result"
    }
   ],
   "source": [
    "(inspect s2)"
   ]
  },
  {
   "cell_type": "code",
   "execution_count": 19,
   "metadata": {},
   "outputs": [
    {
     "name": "stdout",
     "output_type": "stream",
     "text": [
      "\n",
      "Computing boundary-matrix in dimension 1.\n",
      "Rank of the source-module : 0.\n",
      "\n",
      "\n",
      "Computing boundary-matrix in dimension 2.\n",
      "Rank of the source-module : 1.\n",
      "\n",
      "\n",
      ";; Clock -> 2020-01-09, 0h 55m 25s.\n",
      "Computing the boundary of the generator 1/1 (dimension 2) :\n",
      "S2 \n",
      "End of computing.\n",
      "\n",
      "\n",
      "\n",
      "\n",
      "Homology in dimension 1 :\n",
      "\n",
      "\n",
      "\n",
      "---done---\n",
      "\n",
      ";; Clock -> 2020-01-09, 0h 55m 25s.\n",
      "\n"
     ]
    },
    {
     "data": {
      "text/plain": [
       "NIL"
      ]
     },
     "execution_count": 19,
     "metadata": {},
     "output_type": "execute_result"
    }
   ],
   "source": [
    "(homology s2 1)"
   ]
  },
  {
   "cell_type": "code",
   "execution_count": 20,
   "metadata": {},
   "outputs": [
    {
     "name": "stdout",
     "output_type": "stream",
     "text": [
      "\n",
      "The object is a STANDARD-OBJECT of type SIMPLICIAL-SET.\n",
      "0. CMPR: #<FUNCTION SPHERE-CMPR>\n",
      "1. BASIS: #<CLOSURE (FLET RSLT :IN SPHERE-BASIS) {1003C2775B}>\n",
      "2. BSGN: *\n",
      "3. DFFR: [K2 Morphism (degree -1): K1 -> K1]\n",
      "4. GRMD: [K1 Simplicial-Set]\n",
      "5. EFHM: [K9 Homotopy-Equivalence K1 <= K1 => K1]\n",
      "6. IDNM: 1\n",
      "7. ORGN: (SPHERE 2)\n",
      "8. CPRD: [K5 Morphism (degree 0): K1 -> K3]\n",
      "9. FACE: #<CLOSURE (FLET RSLT :IN SPHERE-FACE) {1003C2779B}>\n",
      "> "
     ]
    },
    {
     "data": {
      "text/plain": [
       "NIL"
      ]
     },
     "execution_count": 20,
     "metadata": {},
     "output_type": "execute_result"
    }
   ],
   "source": [
    "(inspect s2)"
   ]
  },
  {
   "cell_type": "code",
   "execution_count": 21,
   "metadata": {},
   "outputs": [
    {
     "data": {
      "text/plain": [
       "(TRIVIAL-HMEQ [K1 Simplicial-Set])"
      ]
     },
     "execution_count": 21,
     "metadata": {},
     "output_type": "execute_result"
    }
   ],
   "source": [
    "(orgn (hmeq 9))"
   ]
  },
  {
   "cell_type": "markdown",
   "metadata": {},
   "source": [
    "Now, we create $\\Omega^1(S^2)$. Getting  the value of the slot `efhm` by a call to the accessor function `efhm`, triggers the search-efhm method for a loop space. A homotopy equivalence is built and the slot is set."
   ]
  },
  {
   "cell_type": "code",
   "execution_count": 22,
   "metadata": {},
   "outputs": [
    {
     "data": {
      "text/plain": [
       "[K10 Simplicial-Group]"
      ]
     },
     "execution_count": 22,
     "metadata": {},
     "output_type": "execute_result"
    }
   ],
   "source": [
    "(def os2 (loop-space s2))"
   ]
  },
  {
   "cell_type": "code",
   "execution_count": 23,
   "metadata": {},
   "outputs": [
    {
     "name": "stdout",
     "output_type": "stream",
     "text": [
      "\n",
      "The object is a STANDARD-OBJECT of type SIMPLICIAL-GROUP.\n",
      "0. CMPR: #<CLOSURE (FLET RSLT :IN LOOP-SPACE-CMPR) {1004E973AB}>\n",
      "1. BASIS: :LOCALLY-EFFECTIVE\n",
      "2. BSGN: <<Loop>>\n",
      "3. DFFR: [K11 Morphism (degree -1): K10 -> K10]\n",
      "4. GRMD: [K10 Simplicial-Group]\n",
      "5. EFHM: \"unbound\"\n",
      "6. IDNM: 10\n",
      "7. ORGN: (LOOP-SPACE [K1 Simplicial-Set])\n",
      "8. APRD: \"unbound\"\n",
      "9. CPRD: [K14 Morphism (degree 0): K10 -> K12]\n",
      "10. FACE: #<CLOSURE (FLET RSLT :IN LOOP-SPACE-FACE) {1004E9779B}>\n",
      "11. KFLL: \"unbound\"\n",
      "12. GRML: [K20 Simplicial-Morphism K15 -> K10]\n",
      "13. GRIN: [K21 Simplicial-Morphism K10 -> K10]\n",
      "> "
     ]
    },
    {
     "data": {
      "text/plain": [
       "NIL"
      ]
     },
     "execution_count": 23,
     "metadata": {},
     "output_type": "execute_result"
    }
   ],
   "source": [
    "(inspect os2)"
   ]
  },
  {
   "cell_type": "code",
   "execution_count": 24,
   "metadata": {},
   "outputs": [
    {
     "data": {
      "text/plain": [
       "(LOOP-SPACE [K1 Simplicial-Set])"
      ]
     },
     "execution_count": 24,
     "metadata": {},
     "output_type": "execute_result"
    }
   ],
   "source": [
    "(orgn os2)"
   ]
  },
  {
   "cell_type": "code",
   "execution_count": 25,
   "metadata": {},
   "outputs": [
    {
     "data": {
      "text/plain": [
       "[K118 Homotopy-Equivalence K10 <= K108 => K25]"
      ]
     },
     "execution_count": 25,
     "metadata": {},
     "output_type": "execute_result"
    }
   ],
   "source": [
    "(efhm os2)"
   ]
  },
  {
   "cell_type": "code",
   "execution_count": 26,
   "metadata": {},
   "outputs": [
    {
     "name": "stdout",
     "output_type": "stream",
     "text": [
      "\n",
      "The object is a STANDARD-OBJECT of type SIMPLICIAL-GROUP.\n",
      "0. CMPR: #<CLOSURE (FLET RSLT :IN LOOP-SPACE-CMPR) {1001A184CB}>\n",
      "1. BASIS: :LOCALLY-EFFECTIVE\n",
      "2. BSGN: <<Loop>>\n",
      "3. DFFR: [K11 Morphism (degree -1): K10 -> K10]\n",
      "4. GRMD: [K10 Simplicial-Group]\n",
      "5. EFHM: [K118 Homotopy-Equivalence K10 <= K108 => K25]\n",
      "6. IDNM: 10\n",
      "7. ORGN: (LOOP-SPACE [K1 Simplicial-Set])\n",
      "8. APRD: \"unbound\"\n",
      "9. CPRD: [K14 Morphism (degree 0): K10 -> K12]\n",
      "10. FACE: #<CLOSURE (FLET RSLT :IN LOOP-SPACE-FACE) {1001A1852B}>\n",
      "11. KFLL: \"unbound\"\n",
      "12. GRML: [K20 Simplicial-Morphism K15 -> K10]\n",
      "13. GRIN: [K21 Simplicial-Morphism K10 -> K10]\n",
      "> "
     ]
    },
    {
     "data": {
      "text/plain": [
       "NIL"
      ]
     },
     "execution_count": 26,
     "metadata": {},
     "output_type": "execute_result"
    }
   ],
   "source": [
    "(inspect os2)"
   ]
  },
  {
   "cell_type": "markdown",
   "metadata": {},
   "source": [
    "The following example shows the recursion mechanism when one wants to get the value of the slot `efhm` of an iterated loop space, namely $\\Omega^3(S^4)$."
   ]
  },
  {
   "cell_type": "code",
   "execution_count": 27,
   "metadata": {},
   "outputs": [
    {
     "data": {
      "text/plain": [
       "[K119 Simplicial-Set]"
      ]
     },
     "execution_count": 27,
     "metadata": {},
     "output_type": "execute_result"
    }
   ],
   "source": [
    "(def s4 (sphere 4))"
   ]
  },
  {
   "cell_type": "code",
   "execution_count": 28,
   "metadata": {},
   "outputs": [
    {
     "name": "stdout",
     "output_type": "stream",
     "text": [
      "\n",
      "The object is a STANDARD-OBJECT of type SIMPLICIAL-SET.\n",
      "0. CMPR: #<FUNCTION SPHERE-CMPR>\n",
      "1. BASIS: #<CLOSURE (FLET RSLT :IN SPHERE-BASIS) {10025002DB}>\n",
      "2. BSGN: *\n",
      "3. DFFR: [K120 Morphism (degree -1): K119 -> K119]\n",
      "4. GRMD: [K119 Simplicial-Set]\n",
      "5. EFHM: \"unbound\"\n",
      "6. IDNM: 119\n",
      "7. ORGN: (SPHERE 4)\n",
      "8. CPRD: [K123 Morphism (degree 0): K119 -> K121]\n",
      "9. FACE: #<CLOSURE (FLET RSLT :IN SPHERE-FACE) {100250031B}>\n",
      "> "
     ]
    },
    {
     "data": {
      "text/plain": [
       "NIL"
      ]
     },
     "execution_count": 28,
     "metadata": {},
     "output_type": "execute_result"
    }
   ],
   "source": [
    "(inspect s4)"
   ]
  },
  {
   "cell_type": "code",
   "execution_count": 29,
   "metadata": {},
   "outputs": [
    {
     "data": {
      "text/plain": [
       "[K148 Simplicial-Group]"
      ]
     },
     "execution_count": 29,
     "metadata": {},
     "output_type": "execute_result"
    }
   ],
   "source": [
    "(def ooos4 (loop-space (loop-space (loop-space s4))))"
   ]
  },
  {
   "cell_type": "code",
   "execution_count": 30,
   "metadata": {},
   "outputs": [
    {
     "data": {
      "text/plain": [
       "(LOOP-SPACE [K136 Simplicial-Group])"
      ]
     },
     "execution_count": 30,
     "metadata": {},
     "output_type": "execute_result"
    }
   ],
   "source": [
    "(orgn ooos4)"
   ]
  },
  {
   "cell_type": "code",
   "execution_count": 31,
   "metadata": {},
   "outputs": [
    {
     "data": {
      "text/plain": [
       "(LOOP-SPACE [K124 Simplicial-Group])"
      ]
     },
     "execution_count": 31,
     "metadata": {},
     "output_type": "execute_result"
    }
   ],
   "source": [
    "(orgn (second *))"
   ]
  },
  {
   "cell_type": "code",
   "execution_count": 32,
   "metadata": {},
   "outputs": [
    {
     "data": {
      "text/plain": [
       "(LOOP-SPACE [K119 Simplicial-Set])"
      ]
     },
     "execution_count": 32,
     "metadata": {},
     "output_type": "execute_result"
    }
   ],
   "source": [
    "(orgn (second *))"
   ]
  },
  {
   "cell_type": "code",
   "execution_count": 33,
   "metadata": {},
   "outputs": [
    {
     "data": {
      "text/plain": [
       "(SPHERE 4)"
      ]
     },
     "execution_count": 33,
     "metadata": {},
     "output_type": "execute_result"
    }
   ],
   "source": [
    "(orgn (second *))"
   ]
  },
  {
   "cell_type": "code",
   "execution_count": 34,
   "metadata": {},
   "outputs": [
    {
     "name": "stdout",
     "output_type": "stream",
     "text": [
      "\n",
      "The object is a STANDARD-OBJECT of type SIMPLICIAL-GROUP.\n",
      "0. CMPR: #<CLOSURE (FLET RSLT :IN LOOP-SPACE-CMPR) {10028B6C0B}>\n",
      "1. BASIS: :LOCALLY-EFFECTIVE\n",
      "2. BSGN: <<Loop>>\n",
      "3. DFFR: [K149 Morphism (degree -1): K148 -> K148]\n",
      "4. GRMD: [K148 Simplicial-Group]\n",
      "5. EFHM: \"unbound\"\n",
      "6. IDNM: 148\n",
      "7. ORGN: (LOOP-SPACE [K136 Simplicial-Group])\n",
      "8. APRD: \"unbound\"\n",
      "9. CPRD: [K152 Morphism (degree 0): K148 -> K150]\n",
      "10. FACE: #<CLOSURE (FLET RSLT :IN LOOP-SPACE-FACE) {10028B6C2B}>\n",
      "11. KFLL: \"unbound\"\n",
      "12. GRML: [K158 Simplicial-Morphism K153 -> K148]\n",
      "13. GRIN: [K159 Simplicial-Morphism K148 -> K148]\n",
      "> "
     ]
    },
    {
     "data": {
      "text/plain": [
       "NIL"
      ]
     },
     "execution_count": 34,
     "metadata": {},
     "output_type": "execute_result"
    }
   ],
   "source": [
    "(inspect ooos4)"
   ]
  },
  {
   "cell_type": "code",
   "execution_count": 35,
   "metadata": {},
   "outputs": [
    {
     "name": "stdout",
     "output_type": "stream",
     "text": [
      "\n",
      "The object is a STANDARD-OBJECT of type SIMPLICIAL-GROUP.\n",
      "0. CMPR: #<CLOSURE (FLET RSLT :IN LOOP-SPACE-CMPR) {10028ADBDB}>\n",
      "1. BASIS: :LOCALLY-EFFECTIVE\n",
      "2. BSGN: <<Loop>>\n",
      "3. DFFR: [K125 Morphism (degree -1): K124 -> K124]\n",
      "4. GRMD: [K124 Simplicial-Group]\n",
      "5. EFHM: \"unbound\"\n",
      "6. IDNM: 124\n",
      "7. ORGN: (LOOP-SPACE [K119 Simplicial-Set])\n",
      "8. APRD: \"unbound\"\n",
      "9. CPRD: [K128 Morphism (degree 0): K124 -> K126]\n",
      "10. FACE: #<CLOSURE (FLET RSLT :IN LOOP-SPACE-FACE) {10028ADBFB}>\n",
      "11. KFLL: \"unbound\"\n",
      "12. GRML: [K134 Simplicial-Morphism K129 -> K124]\n",
      "13. GRIN: [K135 Simplicial-Morphism K124 -> K124]\n",
      "> "
     ]
    },
    {
     "data": {
      "text/plain": [
       "NIL"
      ]
     },
     "execution_count": 35,
     "metadata": {},
     "output_type": "execute_result"
    }
   ],
   "source": [
    "(inspect (smgr 124))"
   ]
  },
  {
   "cell_type": "code",
   "execution_count": 36,
   "metadata": {},
   "outputs": [
    {
     "name": "stdout",
     "output_type": "stream",
     "text": [
      "\n",
      "The object is a STANDARD-OBJECT of type SIMPLICIAL-SET.\n",
      "0. CMPR: #<FUNCTION SPHERE-CMPR>\n",
      "1. BASIS: #<CLOSURE (FLET RSLT :IN SPHERE-BASIS) {10025002DB}>\n",
      "2. BSGN: *\n",
      "3. DFFR: [K120 Morphism (degree -1): K119 -> K119]\n",
      "4. GRMD: [K119 Simplicial-Set]\n",
      "5. EFHM: \"unbound\"\n",
      "6. IDNM: 119\n",
      "7. ORGN: (SPHERE 4)\n",
      "8. CPRD: [K123 Morphism (degree 0): K119 -> K121]\n",
      "9. FACE: #<CLOSURE (FLET RSLT :IN SPHERE-FACE) {100250031B}>\n",
      "> "
     ]
    },
    {
     "data": {
      "text/plain": [
       "NIL"
      ]
     },
     "execution_count": 36,
     "metadata": {},
     "output_type": "execute_result"
    }
   ],
   "source": [
    "(inspect (smst 119))"
   ]
  },
  {
   "cell_type": "code",
   "execution_count": 37,
   "metadata": {},
   "outputs": [
    {
     "data": {
      "text/plain": [
       "[K522 Homotopy-Equivalence K148 <= K512 => K508]"
      ]
     },
     "execution_count": 37,
     "metadata": {},
     "output_type": "execute_result"
    }
   ],
   "source": [
    "(efhm ooos4)"
   ]
  },
  {
   "cell_type": "code",
   "execution_count": 38,
   "metadata": {},
   "outputs": [
    {
     "name": "stdout",
     "output_type": "stream",
     "text": [
      "\n",
      "The object is a STANDARD-OBJECT of type SIMPLICIAL-GROUP.\n",
      "0. CMPR: #<CLOSURE (FLET RSLT :IN LOOP-SPACE-CMPR) {10028ADBDB}>\n",
      "1. BASIS: :LOCALLY-EFFECTIVE\n",
      "2. BSGN: <<Loop>>\n",
      "3. DFFR: [K125 Morphism (degree -1): K124 -> K124]\n",
      "4. GRMD: [K124 Simplicial-Group]\n",
      "5. EFHM: [K426 Homotopy-Equivalence K124 <= K416 => K329]\n",
      "6. IDNM: 124\n",
      "7. ORGN: (LOOP-SPACE [K119 Simplicial-Set])\n",
      "8. APRD: \"unbound\"\n",
      "9. CPRD: [K128 Morphism (degree 0): K124 -> K126]\n",
      "10. FACE: #<CLOSURE (FLET RSLT :IN LOOP-SPACE-FACE) {10028ADBFB}>\n",
      "11. KFLL: \"unbound\"\n",
      "12. GRML: [K134 Simplicial-Morphism K129 -> K124]\n",
      "13. GRIN: [K135 Simplicial-Morphism K124 -> K124]\n",
      "> "
     ]
    },
    {
     "data": {
      "text/plain": [
       "NIL"
      ]
     },
     "execution_count": 38,
     "metadata": {},
     "output_type": "execute_result"
    }
   ],
   "source": [
    "(inspect (smgr 124))"
   ]
  },
  {
   "cell_type": "code",
   "execution_count": 39,
   "metadata": {},
   "outputs": [
    {
     "name": "stdout",
     "output_type": "stream",
     "text": [
      "\n",
      "The object is a STANDARD-OBJECT of type SIMPLICIAL-SET.\n",
      "0. CMPR: #<FUNCTION SPHERE-CMPR>\n",
      "1. BASIS: #<CLOSURE (FLET RSLT :IN SPHERE-BASIS) {10025002DB}>\n",
      "2. BSGN: *\n",
      "3. DFFR: [K120 Morphism (degree -1): K119 -> K119]\n",
      "4. GRMD: [K119 Simplicial-Set]\n",
      "5. EFHM: [K412 Homotopy-Equivalence K119 <= K119 => K119]\n",
      "6. IDNM: 119\n",
      "7. ORGN: (SPHERE 4)\n",
      "8. CPRD: [K123 Morphism (degree 0): K119 -> K121]\n",
      "9. FACE: #<CLOSURE (FLET RSLT :IN SPHERE-FACE) {100250031B}>\n",
      "> "
     ]
    },
    {
     "data": {
      "text/plain": [
       "NIL"
      ]
     },
     "execution_count": 39,
     "metadata": {},
     "output_type": "execute_result"
    }
   ],
   "source": [
    "(inspect (smst 119))"
   ]
  },
  {
   "cell_type": "markdown",
   "metadata": {},
   "source": [
    "#### Lisp files concerned in this chapter}\n",
    "\n",
    "`homology-groups.lisp`, `searching-homology` and files containing a `search-efhm` method."
   ]
  }
 ],
 "metadata": {
  "kernelspec": {
   "display_name": "SBCL Lisp",
   "language": "lisp",
   "name": "lisp"
  },
  "language_info": {
   "codemirror_mode": "text/x-common-lisp",
   "mimetype": "text/x-common-lisp",
   "name": "common-lisp",
   "pygments_lexer": "common-lisp",
   "version": "X3J13"
  }
 },
 "nbformat": 4,
 "nbformat_minor": 1
}
